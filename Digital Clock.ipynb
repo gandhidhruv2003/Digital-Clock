{
 "cells": [
  {
   "cell_type": "code",
   "execution_count": null,
   "id": "13cf5e19",
   "metadata": {},
   "outputs": [],
   "source": [
    "import schedule\n",
    "import time\n",
    "import datetime\n",
    "import pytz\n",
    "\n",
    "def digital_time():\n",
    "    current_time = str(datetime.datetime.now())\n",
    "    print(current_time[:19])\n",
    "\n",
    "schedule.every().second.do(digital_time)\n",
    "\n",
    "while True:\n",
    "    schedule.run_pending()\n",
    "    time.sleep(1)"
   ]
  }
 ],
 "metadata": {
  "kernelspec": {
   "display_name": "Python 3 (ipykernel)",
   "language": "python",
   "name": "python3"
  },
  "language_info": {
   "codemirror_mode": {
    "name": "ipython",
    "version": 3
   },
   "file_extension": ".py",
   "mimetype": "text/x-python",
   "name": "python",
   "nbconvert_exporter": "python",
   "pygments_lexer": "ipython3",
   "version": "3.9.13"
  }
 },
 "nbformat": 4,
 "nbformat_minor": 5
}
